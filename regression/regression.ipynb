{
 "cells": [
  {
   "cell_type": "code",
   "execution_count": 280,
   "metadata": {},
   "outputs": [],
   "source": [
    "import numpy as np\n",
    "import matplotlib as mpl\n",
    "import matplotlib.pyplot as plt\n",
    "import seaborn as sns\n",
    "import math, warnings\n",
    "from sklearn import linear_model, naive_bayes, svm, model_selection\n",
    "from sklearn.neighbors import NearestNeighbors\n",
    "import pandas as pd\n",
    "import seaborn as sn\n",
    "from sklearn.metrics import classification_report"
   ]
  },
  {
   "cell_type": "code",
   "execution_count": 281,
   "metadata": {},
   "outputs": [],
   "source": [
    "df_train = pd.read_csv(\"dataWorkstyle-training.csv\") \n",
    "df_test = pd.read_csv(\"user-response-test.csv\") "
   ]
  },
  {
   "cell_type": "code",
   "execution_count": 336,
   "metadata": {},
   "outputs": [],
   "source": [
    "#X = df_train[['company','investmentStart','returnTime','workStyle','companySize','capitalInstalacao','totalUnits']]\n",
    "#X_test = df_test[['investmentStart','returnTime','workStyle','companySize','capitalInstalacao','totalUnits']]\n",
    "\n",
    "X = df_train[['company','investmentStart','returnTime','workStyle']]\n",
    "X_test = df_test[['investmentStart','returnTime','workStyle']]\n",
    "\n",
    "investmentStartFilter =  X['investmentStart'] <= (X_test['investmentStart'][0] * 1.5)\n",
    "X_filter = X[investmentStartFilter]\n",
    "X_filter = X_filter.loc[~((X_filter['investmentStart'] == 0))]\n",
    "y = X_filter['company']\n",
    "X_filter = X_filter.iloc[: , 1:]\n"
   ]
  },
  {
   "cell_type": "code",
   "execution_count": 337,
   "metadata": {},
   "outputs": [],
   "source": [
    "meanDataSet = X_filter.mean()\n",
    "stdDataSet = X_filter.std()\n",
    "X_norm =(X_filter-meanDataSet)/stdDataSet\n"
   ]
  },
  {
   "cell_type": "code",
   "execution_count": 338,
   "metadata": {},
   "outputs": [],
   "source": [
    "model = linear_model.LogisticRegression(random_state=0).fit(X_norm, y)\n",
    "result = model.score(X_norm, y)\n"
   ]
  },
  {
   "cell_type": "code",
   "execution_count": 339,
   "metadata": {},
   "outputs": [
    {
     "data": {
      "text/html": [
       "<div>\n",
       "<style scoped>\n",
       "    .dataframe tbody tr th:only-of-type {\n",
       "        vertical-align: middle;\n",
       "    }\n",
       "\n",
       "    .dataframe tbody tr th {\n",
       "        vertical-align: top;\n",
       "    }\n",
       "\n",
       "    .dataframe thead th {\n",
       "        text-align: right;\n",
       "    }\n",
       "</style>\n",
       "<table border=\"1\" class=\"dataframe\">\n",
       "  <thead>\n",
       "    <tr style=\"text-align: right;\">\n",
       "      <th></th>\n",
       "      <th>investmentStart</th>\n",
       "      <th>returnTime</th>\n",
       "      <th>workStyle</th>\n",
       "      <th>companySize</th>\n",
       "      <th>capitalInstalacao</th>\n",
       "      <th>totalUnits</th>\n",
       "    </tr>\n",
       "  </thead>\n",
       "  <tbody>\n",
       "    <tr>\n",
       "      <th>0</th>\n",
       "      <td>50000</td>\n",
       "      <td>36</td>\n",
       "      <td>2</td>\n",
       "      <td>2</td>\n",
       "      <td>10000</td>\n",
       "      <td>5</td>\n",
       "    </tr>\n",
       "  </tbody>\n",
       "</table>\n",
       "</div>"
      ],
      "text/plain": [
       "   investmentStart  returnTime  workStyle  companySize  capitalInstalacao  \\\n",
       "0            50000          36          2            2              10000   \n",
       "\n",
       "   totalUnits  \n",
       "0           5  "
      ]
     },
     "execution_count": 339,
     "metadata": {},
     "output_type": "execute_result"
    }
   ],
   "source": [
    "\n",
    "\n",
    "X_test_norm = (X_test-meanDataSet)/stdDataSet\n",
    "X_test\n",
    "\n"
   ]
  },
  {
   "cell_type": "code",
   "execution_count": 340,
   "metadata": {},
   "outputs": [],
   "source": [
    "y_test = model.predict(X_test_norm)\n",
    "valid_x_df = pd.DataFrame(X_test_norm)\n",
    "valid_y_df = pd.DataFrame(y_test)\n"
   ]
  },
  {
   "cell_type": "code",
   "execution_count": 341,
   "metadata": {},
   "outputs": [
    {
     "name": "stdout",
     "output_type": "stream",
     "text": [
      "      company  investmentStart  returnTime  workStyle  companySize  \\\n",
      "41  casagroup            50990          18          2            2   \n",
      "\n",
      "    capitalInstalacao  totalUnits  \n",
      "41                  0           2  \n"
     ]
    }
   ],
   "source": [
    "n=5\n",
    "\n",
    "probas = model.predict_proba(X_test_norm)\n",
    "\n",
    "\n",
    "top_n_predictions = np.argsort(probas, axis = 1)[:,-n:]\n",
    "\n",
    "top_class = model.classes_[top_n_predictions]\n",
    "\n",
    "top_class_df = pd.DataFrame(data=top_class)\n",
    "results = pd.merge(valid_y_df, valid_x_df, left_index=True, right_index=True)\n",
    "results = pd.merge(results, top_class_df, left_index=True, right_index=True)\n",
    "\n",
    "firstRecommended = results.iloc[:,-1].to_numpy()\n",
    "secondRecommended = results.iloc[:,-2].to_numpy()\n",
    "thirdRecommended = results.iloc[:,-3].to_numpy()\n",
    "fourthRecommended = results.iloc[:,-4].to_numpy()\n",
    "fifthRecommended = results.iloc[:,-5].to_numpy()\n",
    "\n",
    "for i in range(len(X)):\n",
    "    if X.iloc[:,0][i] == firstRecommended[0]:\n",
    "        print(X.loc[[i]])\n",
    "\n"
   ]
  },
  {
   "cell_type": "code",
   "execution_count": 342,
   "metadata": {},
   "outputs": [
    {
     "data": {
      "text/html": [
       "<div>\n",
       "<style scoped>\n",
       "    .dataframe tbody tr th:only-of-type {\n",
       "        vertical-align: middle;\n",
       "    }\n",
       "\n",
       "    .dataframe tbody tr th {\n",
       "        vertical-align: top;\n",
       "    }\n",
       "\n",
       "    .dataframe thead th {\n",
       "        text-align: right;\n",
       "    }\n",
       "</style>\n",
       "<table border=\"1\" class=\"dataframe\">\n",
       "  <thead>\n",
       "    <tr style=\"text-align: right;\">\n",
       "      <th></th>\n",
       "      <th>0_x</th>\n",
       "      <th>investmentStart</th>\n",
       "      <th>returnTime</th>\n",
       "      <th>workStyle</th>\n",
       "      <th>companySize</th>\n",
       "      <th>capitalInstalacao</th>\n",
       "      <th>totalUnits</th>\n",
       "      <th>0_y</th>\n",
       "      <th>1</th>\n",
       "      <th>2</th>\n",
       "      <th>3</th>\n",
       "      <th>4</th>\n",
       "    </tr>\n",
       "  </thead>\n",
       "  <tbody>\n",
       "    <tr>\n",
       "      <th>0</th>\n",
       "      <td>casagroup</td>\n",
       "      <td>1.190776</td>\n",
       "      <td>3.787368</td>\n",
       "      <td>0.931133</td>\n",
       "      <td>0.902957</td>\n",
       "      <td>-0.411282</td>\n",
       "      <td>-0.471335</td>\n",
       "      <td>beetools the language school</td>\n",
       "      <td>acai da barra</td>\n",
       "      <td>conta4u</td>\n",
       "      <td>agua de cheiro</td>\n",
       "      <td>casagroup</td>\n",
       "    </tr>\n",
       "  </tbody>\n",
       "</table>\n",
       "</div>"
      ],
      "text/plain": [
       "         0_x  investmentStart  returnTime  workStyle  companySize  \\\n",
       "0  casagroup         1.190776    3.787368   0.931133     0.902957   \n",
       "\n",
       "   capitalInstalacao  totalUnits                           0_y              1  \\\n",
       "0          -0.411282   -0.471335  beetools the language school  acai da barra   \n",
       "\n",
       "         2               3          4  \n",
       "0  conta4u  agua de cheiro  casagroup  "
      ]
     },
     "execution_count": 342,
     "metadata": {},
     "output_type": "execute_result"
    }
   ],
   "source": [
    "results"
   ]
  },
  {
   "cell_type": "code",
   "execution_count": 343,
   "metadata": {},
   "outputs": [],
   "source": [
    "#plot = sn.heatmap(probas, annot=False, fmt=\".2f\")"
   ]
  },
  {
   "cell_type": "code",
   "execution_count": null,
   "metadata": {},
   "outputs": [],
   "source": []
  },
  {
   "cell_type": "code",
   "execution_count": null,
   "metadata": {},
   "outputs": [],
   "source": []
  }
 ],
 "metadata": {
  "interpreter": {
   "hash": "f4fde45515710cbe4f4cf44a8ddef1b298277709bd6c5462499553af68a98f2e"
  },
  "kernelspec": {
   "display_name": "Python 3.10.0 64-bit",
   "language": "python",
   "name": "python3"
  },
  "language_info": {
   "codemirror_mode": {
    "name": "ipython",
    "version": 3
   },
   "file_extension": ".py",
   "mimetype": "text/x-python",
   "name": "python",
   "nbconvert_exporter": "python",
   "pygments_lexer": "ipython3",
   "version": "3.10.0"
  },
  "orig_nbformat": 4
 },
 "nbformat": 4,
 "nbformat_minor": 2
}
