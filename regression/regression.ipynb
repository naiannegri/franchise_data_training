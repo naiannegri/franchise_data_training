{
 "cells": [
  {
   "cell_type": "code",
   "execution_count": 2,
   "metadata": {},
   "outputs": [],
   "source": [
    "import numpy as np\n",
    "import matplotlib as mpl\n",
    "import matplotlib.pyplot as plt\n",
    "import seaborn as sns\n",
    "import math, warnings\n",
    "from sklearn import linear_model, naive_bayes, svm, model_selection\n",
    "from sklearn.neighbors import NearestNeighbors\n",
    "import pandas as pd\n",
    "import seaborn as sn\n",
    "from sklearn.metrics import classification_report"
   ]
  },
  {
   "cell_type": "code",
   "execution_count": 3,
   "metadata": {},
   "outputs": [],
   "source": [
    "df_train = pd.read_csv(\"dataWorkstyle-training.csv\") \n",
    "df_test = pd.read_csv(\"dataWorkstyle-test.csv\") "
   ]
  },
  {
   "cell_type": "code",
   "execution_count": 4,
   "metadata": {},
   "outputs": [],
   "source": [
    "X = df_train[['sector','investmentStart','returnTime','workStyle','companySize','faturamentoMedio','capitalInstalacao','taxaFranquia','capital_needed','prazo']]\n",
    "y = df_train['company'] "
   ]
  },
  {
   "cell_type": "code",
   "execution_count": 5,
   "metadata": {},
   "outputs": [],
   "source": [
    "X_norm =(X-X.mean())/X.std()"
   ]
  },
  {
   "cell_type": "code",
   "execution_count": 6,
   "metadata": {},
   "outputs": [],
   "source": [
    "model = linear_model.LogisticRegression(solver = 'lbfgs').fit(X_norm, y)\n",
    "result = model.score(X_norm, y)"
   ]
  },
  {
   "cell_type": "code",
   "execution_count": 7,
   "metadata": {},
   "outputs": [],
   "source": [
    "X_test = df_test[['sector','investmentStart','returnTime','workStyle','companySize','faturamentoMedio','capitalInstalacao','taxaFranquia','capital_needed','prazo']]\n",
    "X_test_norm =(X_test-X_test.mean())/X_test.std()"
   ]
  },
  {
   "cell_type": "code",
   "execution_count": 8,
   "metadata": {},
   "outputs": [],
   "source": [
    "y_test = model.predict(X_test_norm)\n",
    "valid_x_df = pd.DataFrame(X_test_norm)\n",
    "valid_y_df = pd.DataFrame(y_test)\n"
   ]
  },
  {
   "cell_type": "code",
   "execution_count": 9,
   "metadata": {},
   "outputs": [],
   "source": [
    "n=5\n",
    "\n",
    "probas = model.predict_proba(X_test_norm)\n",
    "\n",
    "\n",
    "top_n_predictions = np.argsort(probas, axis = 1)[:,-n:]\n",
    "\n",
    "top_class = model.classes_[top_n_predictions]\n",
    "\n",
    "top_class_df = pd.DataFrame(data=top_class)\n",
    "results = pd.merge(valid_y_df, valid_x_df, left_index=True, right_index=True)\n",
    "results = pd.merge(results, top_class_df, left_index=True, right_index=True)\n",
    "\n"
   ]
  },
  {
   "cell_type": "code",
   "execution_count": 12,
   "metadata": {},
   "outputs": [
    {
     "data": {
      "text/plain": [
       "array([['bibi', 'bobs', 'babbo giovanni', 'chiquinho sorvetes',\n",
       "        'billy the grill'],\n",
       "       ['billy the grill', 'bobs', 'babbo giovanni', 'american cookies',\n",
       "        'acai da barra'],\n",
       "       ['arezzo  co', 'am pm', 'billy the grill', 'babbo giovanni',\n",
       "        'casa do construtor'],\n",
       "       ['billy the grill', 'franquia aramis mensawear',\n",
       "        'chiquinho sorvetes', 'biomundo', 'anjos colchoes'],\n",
       "       ['grupo acolher  cuidar', 'af credito solucoes financeiras',\n",
       "        'bidon corretora de seguros', 'atitude point',\n",
       "        'colchoes ortobom'],\n",
       "       ['acai da barra', 'brazil health', 'conta4u', 'bioflora',\n",
       "        'clube turismo'],\n",
       "       ['beetools the language school', 'am pm', 'agxt',\n",
       "        'campinas celulares', 'acium'],\n",
       "       ['dumond', 'casa do construtor', 'billy the grill',\n",
       "        'babbo giovanni', 'bibi'],\n",
       "       ['bibi', 'casa do construtor', 'bobs', 'dumond', 'bluefit'],\n",
       "       ['brazil health', 'ceopag', 'conta4u', 'clube turismo',\n",
       "        'bioflora'],\n",
       "       ['5 a sec', 'am pm', 'chef da empada', 'american cookies',\n",
       "        'agua de cheiro'],\n",
       "       ['conta4u', 'brazil health', 'bioflora', 'bmz auto brokers',\n",
       "        'ceopag'],\n",
       "       ['clube turismo', 'bioflora', 'af credito solucoes financeiras',\n",
       "        'conta4u', 'brazil health'],\n",
       "       ['af credito solucoes financeiras', 'bioflora', 'clube turismo',\n",
       "        'brazil health', 'conta4u'],\n",
       "       ['agua de cheiro', 'dumond', '5 a sec', 'arranjos express',\n",
       "        'beetools the language school'],\n",
       "       ['am pm', 'chiquinho sorvetes', 'chef da empada', 'casagroup',\n",
       "        'br mania'],\n",
       "       ['cheflera', 'atitude point', 'agxt', 'acium',\n",
       "        'campinas celulares'],\n",
       "       ['br mania', 'american cookies', 'agua de cheiro', 'casagroup',\n",
       "        'chef da empada'],\n",
       "       ['colchoes ortobom', 'af credito solucoes financeiras',\n",
       "        'grupo acolher  cuidar', 'bidon corretora de seguros',\n",
       "        'cheflera'],\n",
       "       ['bar do urso', 'anjos colchoes', 'br mania', 'billy the grill',\n",
       "        'chiquinho sorvetes'],\n",
       "       ['colchoes ortobom', 'clube turismo', 'billy the grill',\n",
       "        'arezzo  co', 'constance'],\n",
       "       ['antilhas embalagens', 'aw contabil', 'btg pactual',\n",
       "        'a fabrica de vendas',\n",
       "        'bittencourt inteligencia em redes de negocios'],\n",
       "       ['brewtainer', 'central do franqueado', 'bebidas online',\n",
       "        'biomundo', 'ara moveis'],\n",
       "       ['babbo giovanni', 'billy the grill', 'casa do construtor',\n",
       "        'constance', 'arezzo  co'],\n",
       "       ['antilhas embalagens', 'aw contabil', 'btg pactual',\n",
       "        'a fabrica de vendas',\n",
       "        'bittencourt inteligencia em redes de negocios'],\n",
       "       ['colchoes ortobom', 'agua de cheiro',\n",
       "        'beetools the language school', 'arranjos express', '5 a sec'],\n",
       "       ['antilhas embalagens', 'aw contabil', 'btg pactual',\n",
       "        'a fabrica de vendas',\n",
       "        'bittencourt inteligencia em redes de negocios'],\n",
       "       ['bebidas online', 'bmz auto brokers', 'bten', 'clinicorp',\n",
       "        'acqio'],\n",
       "       ['beetools the language school', 'dumond', 'arranjos express',\n",
       "        'atitude point', 'ad clinic estetica e bemestar'],\n",
       "       ['colchoes ortobom', 'brazil health', 'grupo acolher  cuidar',\n",
       "        'bidon corretora de seguros', 'af credito solucoes financeiras'],\n",
       "       ['chiquinho sorvetes', 'arranjos express', 'biomundo',\n",
       "        'anjos colchoes', 'franquia aramis mensawear'],\n",
       "       ['br mania', 'chef da empada', 'chiquinho sorvetes',\n",
       "        'babbo giovanni', 'bar do urso'],\n",
       "       ['antilhas embalagens', 'aw contabil', 'btg pactual',\n",
       "        'a fabrica de vendas',\n",
       "        'bittencourt inteligencia em redes de negocios'],\n",
       "       ['bittencourt inteligencia em redes de negocios',\n",
       "        'a fabrica de vendas', 'bidon corretora de seguros', 'bten',\n",
       "        'brewtainer'],\n",
       "       ['central do franqueado', 'acqio', 'clinicorp', 'brewtainer',\n",
       "        'bten'],\n",
       "       ['antilhas embalagens', 'aw contabil', 'btg pactual',\n",
       "        'a fabrica de vendas',\n",
       "        'bittencourt inteligencia em redes de negocios'],\n",
       "       ['casa do construtor', 'bibi', 'beetools the language school',\n",
       "        'ad clinic estetica e bemestar', 'dumond'],\n",
       "       ['brazil health', 'bten', 'ara moveis', 'bebidas online',\n",
       "        'central do franqueado'],\n",
       "       ['bebidas online', 'bmz auto brokers', 'bten', 'acqio',\n",
       "        'clinicorp'],\n",
       "       ['colchoes ortobom', 'cheflera',\n",
       "        'af credito solucoes financeiras', 'bidon corretora de seguros',\n",
       "        'grupo acolher  cuidar'],\n",
       "       ['babbo giovanni', 'casa do construtor', 'bibi',\n",
       "        'billy the grill', 'bobs'],\n",
       "       ['agua de cheiro', 'bar do urso', 'br mania', 'chef da empada',\n",
       "        'casagroup'],\n",
       "       ['bmz auto brokers', 'campinas celulares', 'acium', 'cheflera',\n",
       "        'agxt'],\n",
       "       ['casa do construtor', 'chef da empada', 'american cookies',\n",
       "        'agua de cheiro', 'am pm'],\n",
       "       ['acai da barra', 'am pm', 'chef da empada', 'agua de cheiro',\n",
       "        'american cookies'],\n",
       "       ['colchoes ortobom', '5 a sec', 'ad clinic estetica e bemestar',\n",
       "        'beetools the language school', 'arranjos express'],\n",
       "       ['grupo acolher  cuidar', 'campinas celulares',\n",
       "        'ad clinic estetica e bemestar', 'colchoes ortobom',\n",
       "        'atitude point'],\n",
       "       ['bar do urso', 'casa do construtor', 'billy the grill', 'bibi',\n",
       "        'babbo giovanni'],\n",
       "       ['acqio', 'clinicorp', 'ara moveis', 'central do franqueado',\n",
       "        'bebidas online'],\n",
       "       ['cheflera', 'colchoes ortobom',\n",
       "        'af credito solucoes financeiras', 'grupo acolher  cuidar',\n",
       "        'bidon corretora de seguros'],\n",
       "       ['agxt', 'grupo acolher  cuidar', 'ara moveis', 'anjos colchoes',\n",
       "        'biomundo'],\n",
       "       ['bioflora', 'acqio', 'clinicorp', 'ceopag', 'bmz auto brokers']],\n",
       "      dtype=object)"
      ]
     },
     "execution_count": 12,
     "metadata": {},
     "output_type": "execute_result"
    }
   ],
   "source": [
    "top_class"
   ]
  },
  {
   "cell_type": "code",
   "execution_count": 11,
   "metadata": {},
   "outputs": [
    {
     "data": {
      "image/png": "[encoded data removed]",
      "text/plain": [
       "<Figure size 432x288 with 2 Axes>"
      ]
     },
     "metadata": {
      "needs_background": "light"
     },
     "output_type": "display_data"
    }
   ],
   "source": [
    "plot = sn.heatmap(probas, annot=False, fmt=\".2f\")"
   ]
  },
  {
   "cell_type": "code",
   "execution_count": null,
   "metadata": {},
   "outputs": [],
   "source": []
  },
  {
   "cell_type": "code",
   "execution_count": null,
   "metadata": {},
   "outputs": [],
   "source": []
  }
 ],
 "metadata": {
  "interpreter": {
   "hash": "f4fde45515710cbe4f4cf44a8ddef1b298277709bd6c5462499553af68a98f2e"
  },
  "kernelspec": {
   "display_name": "Python 3.10.0 64-bit",
   "language": "python",
   "name": "python3"
  },
  "language_info": {
   "codemirror_mode": {
    "name": "ipython",
    "version": 3
   },
   "file_extension": ".py",
   "mimetype": "text/x-python",
   "name": "python",
   "nbconvert_exporter": "python",
   "pygments_lexer": "ipython3",
   "version": "3.10.0"
  },
  "orig_nbformat": 4
 },
 "nbformat": 4,
 "nbformat_minor": 2
}
