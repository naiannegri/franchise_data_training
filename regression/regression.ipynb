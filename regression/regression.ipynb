{
 "cells": [
  {
   "cell_type": "code",
   "execution_count": 119,
   "metadata": {},
   "outputs": [],
   "source": [
    "import numpy as np\n",
    "import matplotlib as mpl\n",
    "import matplotlib.pyplot as plt\n",
    "import seaborn as sns\n",
    "import math, warnings\n",
    "from sklearn import linear_model, naive_bayes, svm, model_selection\n",
    "from sklearn.neighbors import NearestNeighbors\n",
    "import pandas as pd\n",
    "import seaborn as sn\n",
    "from sklearn.metrics import classification_report"
   ]
  },
  {
   "cell_type": "code",
   "execution_count": 120,
   "metadata": {},
   "outputs": [],
   "source": [
    "df_train = pd.read_csv(\"dataWorkstyle-training.csv\") \n",
    "df_test = pd.read_csv(\"user-response-test.csv\") "
   ]
  },
  {
   "cell_type": "code",
   "execution_count": 219,
   "metadata": {},
   "outputs": [
    {
     "ename": "IndexingError",
     "evalue": "Unalignable boolean Series provided as indexer (index of the boolean Series and of the indexed object do not match).",
     "output_type": "error",
     "traceback": [
      "\u001b[1;31m---------------------------------------------------------------------------\u001b[0m",
      "\u001b[1;31mIndexingError\u001b[0m                             Traceback (most recent call last)",
      "\u001b[1;32mc:\\Users\\Naiane Negri\\Documents\\TagChat\\franchise\\more-data-abf\\regression\\regression.ipynb Cell 3'\u001b[0m in \u001b[0;36m<module>\u001b[1;34m\u001b[0m\n\u001b[0;32m      <a href='vscode-notebook-cell:/c%3A/Users/Naiane%20Negri/Documents/TagChat/franchise/more-data-abf/regression/regression.ipynb#ch0000002?line=4'>5</a>\u001b[0m investmentStartFilter \u001b[39m=\u001b[39m  X[\u001b[39m'\u001b[39m\u001b[39minvestmentStart\u001b[39m\u001b[39m'\u001b[39m] \u001b[39m<\u001b[39m\u001b[39m=\u001b[39m (X_test[\u001b[39m'\u001b[39m\u001b[39minvestmentStart\u001b[39m\u001b[39m'\u001b[39m][\u001b[39m0\u001b[39m] \u001b[39m*\u001b[39m \u001b[39m1.3\u001b[39m)\n\u001b[0;32m      <a href='vscode-notebook-cell:/c%3A/Users/Naiane%20Negri/Documents/TagChat/franchise/more-data-abf/regression/regression.ipynb#ch0000002?line=5'>6</a>\u001b[0m X_filter \u001b[39m=\u001b[39m X[investmentStartFilter]\n\u001b[1;32m----> <a href='vscode-notebook-cell:/c%3A/Users/Naiane%20Negri/Documents/TagChat/franchise/more-data-abf/regression/regression.ipynb#ch0000002?line=7'>8</a>\u001b[0m X_filter \u001b[39m=\u001b[39m X_filter\u001b[39m.\u001b[39;49mloc[(X_filter \u001b[39m!=\u001b[39;49m \u001b[39m0\u001b[39;49m)\u001b[39m.\u001b[39;49mall()]\n\u001b[0;32m      <a href='vscode-notebook-cell:/c%3A/Users/Naiane%20Negri/Documents/TagChat/franchise/more-data-abf/regression/regression.ipynb#ch0000002?line=8'>9</a>\u001b[0m X_filter\n",
      "File \u001b[1;32m~\\AppData\\Roaming\\Python\\Python310\\site-packages\\pandas\\core\\indexing.py:931\u001b[0m, in \u001b[0;36m_LocationIndexer.__getitem__\u001b[1;34m(self, key)\u001b[0m\n\u001b[0;32m    <a href='file:///c%3A/Users/Naiane%20Negri/AppData/Roaming/Python/Python310/site-packages/pandas/core/indexing.py?line=927'>928</a>\u001b[0m axis \u001b[39m=\u001b[39m \u001b[39mself\u001b[39m\u001b[39m.\u001b[39maxis \u001b[39mor\u001b[39;00m \u001b[39m0\u001b[39m\n\u001b[0;32m    <a href='file:///c%3A/Users/Naiane%20Negri/AppData/Roaming/Python/Python310/site-packages/pandas/core/indexing.py?line=929'>930</a>\u001b[0m maybe_callable \u001b[39m=\u001b[39m com\u001b[39m.\u001b[39mapply_if_callable(key, \u001b[39mself\u001b[39m\u001b[39m.\u001b[39mobj)\n\u001b[1;32m--> <a href='file:///c%3A/Users/Naiane%20Negri/AppData/Roaming/Python/Python310/site-packages/pandas/core/indexing.py?line=930'>931</a>\u001b[0m \u001b[39mreturn\u001b[39;00m \u001b[39mself\u001b[39;49m\u001b[39m.\u001b[39;49m_getitem_axis(maybe_callable, axis\u001b[39m=\u001b[39;49maxis)\n",
      "File \u001b[1;32m~\\AppData\\Roaming\\Python\\Python310\\site-packages\\pandas\\core\\indexing.py:1144\u001b[0m, in \u001b[0;36m_LocIndexer._getitem_axis\u001b[1;34m(self, key, axis)\u001b[0m\n\u001b[0;32m   <a href='file:///c%3A/Users/Naiane%20Negri/AppData/Roaming/Python/Python310/site-packages/pandas/core/indexing.py?line=1141'>1142</a>\u001b[0m     \u001b[39mreturn\u001b[39;00m \u001b[39mself\u001b[39m\u001b[39m.\u001b[39m_get_slice_axis(key, axis\u001b[39m=\u001b[39maxis)\n\u001b[0;32m   <a href='file:///c%3A/Users/Naiane%20Negri/AppData/Roaming/Python/Python310/site-packages/pandas/core/indexing.py?line=1142'>1143</a>\u001b[0m \u001b[39melif\u001b[39;00m com\u001b[39m.\u001b[39mis_bool_indexer(key):\n\u001b[1;32m-> <a href='file:///c%3A/Users/Naiane%20Negri/AppData/Roaming/Python/Python310/site-packages/pandas/core/indexing.py?line=1143'>1144</a>\u001b[0m     \u001b[39mreturn\u001b[39;00m \u001b[39mself\u001b[39;49m\u001b[39m.\u001b[39;49m_getbool_axis(key, axis\u001b[39m=\u001b[39;49maxis)\n\u001b[0;32m   <a href='file:///c%3A/Users/Naiane%20Negri/AppData/Roaming/Python/Python310/site-packages/pandas/core/indexing.py?line=1144'>1145</a>\u001b[0m \u001b[39melif\u001b[39;00m is_list_like_indexer(key):\n\u001b[0;32m   <a href='file:///c%3A/Users/Naiane%20Negri/AppData/Roaming/Python/Python310/site-packages/pandas/core/indexing.py?line=1145'>1146</a>\u001b[0m \n\u001b[0;32m   <a href='file:///c%3A/Users/Naiane%20Negri/AppData/Roaming/Python/Python310/site-packages/pandas/core/indexing.py?line=1146'>1147</a>\u001b[0m     \u001b[39m# an iterable multi-selection\u001b[39;00m\n\u001b[0;32m   <a href='file:///c%3A/Users/Naiane%20Negri/AppData/Roaming/Python/Python310/site-packages/pandas/core/indexing.py?line=1147'>1148</a>\u001b[0m     \u001b[39mif\u001b[39;00m \u001b[39mnot\u001b[39;00m (\u001b[39misinstance\u001b[39m(key, \u001b[39mtuple\u001b[39m) \u001b[39mand\u001b[39;00m \u001b[39misinstance\u001b[39m(labels, MultiIndex)):\n",
      "File \u001b[1;32m~\\AppData\\Roaming\\Python\\Python310\\site-packages\\pandas\\core\\indexing.py:948\u001b[0m, in \u001b[0;36m_LocationIndexer._getbool_axis\u001b[1;34m(self, key, axis)\u001b[0m\n\u001b[0;32m    <a href='file:///c%3A/Users/Naiane%20Negri/AppData/Roaming/Python/Python310/site-packages/pandas/core/indexing.py?line=944'>945</a>\u001b[0m \u001b[39mdef\u001b[39;00m \u001b[39m_getbool_axis\u001b[39m(\u001b[39mself\u001b[39m, key, axis: \u001b[39mint\u001b[39m):\n\u001b[0;32m    <a href='file:///c%3A/Users/Naiane%20Negri/AppData/Roaming/Python/Python310/site-packages/pandas/core/indexing.py?line=945'>946</a>\u001b[0m     \u001b[39m# caller is responsible for ensuring non-None axis\u001b[39;00m\n\u001b[0;32m    <a href='file:///c%3A/Users/Naiane%20Negri/AppData/Roaming/Python/Python310/site-packages/pandas/core/indexing.py?line=946'>947</a>\u001b[0m     labels \u001b[39m=\u001b[39m \u001b[39mself\u001b[39m\u001b[39m.\u001b[39mobj\u001b[39m.\u001b[39m_get_axis(axis)\n\u001b[1;32m--> <a href='file:///c%3A/Users/Naiane%20Negri/AppData/Roaming/Python/Python310/site-packages/pandas/core/indexing.py?line=947'>948</a>\u001b[0m     key \u001b[39m=\u001b[39m check_bool_indexer(labels, key)\n\u001b[0;32m    <a href='file:///c%3A/Users/Naiane%20Negri/AppData/Roaming/Python/Python310/site-packages/pandas/core/indexing.py?line=948'>949</a>\u001b[0m     inds \u001b[39m=\u001b[39m key\u001b[39m.\u001b[39mnonzero()[\u001b[39m0\u001b[39m]\n\u001b[0;32m    <a href='file:///c%3A/Users/Naiane%20Negri/AppData/Roaming/Python/Python310/site-packages/pandas/core/indexing.py?line=949'>950</a>\u001b[0m     \u001b[39mreturn\u001b[39;00m \u001b[39mself\u001b[39m\u001b[39m.\u001b[39mobj\u001b[39m.\u001b[39m_take_with_is_copy(inds, axis\u001b[39m=\u001b[39maxis)\n",
      "File \u001b[1;32m~\\AppData\\Roaming\\Python\\Python310\\site-packages\\pandas\\core\\indexing.py:2388\u001b[0m, in \u001b[0;36mcheck_bool_indexer\u001b[1;34m(index, key)\u001b[0m\n\u001b[0;32m   <a href='file:///c%3A/Users/Naiane%20Negri/AppData/Roaming/Python/Python310/site-packages/pandas/core/indexing.py?line=2385'>2386</a>\u001b[0m     mask \u001b[39m=\u001b[39m isna(result\u001b[39m.\u001b[39m_values)\n\u001b[0;32m   <a href='file:///c%3A/Users/Naiane%20Negri/AppData/Roaming/Python/Python310/site-packages/pandas/core/indexing.py?line=2386'>2387</a>\u001b[0m     \u001b[39mif\u001b[39;00m mask\u001b[39m.\u001b[39many():\n\u001b[1;32m-> <a href='file:///c%3A/Users/Naiane%20Negri/AppData/Roaming/Python/Python310/site-packages/pandas/core/indexing.py?line=2387'>2388</a>\u001b[0m         \u001b[39mraise\u001b[39;00m IndexingError(\n\u001b[0;32m   <a href='file:///c%3A/Users/Naiane%20Negri/AppData/Roaming/Python/Python310/site-packages/pandas/core/indexing.py?line=2388'>2389</a>\u001b[0m             \u001b[39m\"\u001b[39m\u001b[39mUnalignable boolean Series provided as \u001b[39m\u001b[39m\"\u001b[39m\n\u001b[0;32m   <a href='file:///c%3A/Users/Naiane%20Negri/AppData/Roaming/Python/Python310/site-packages/pandas/core/indexing.py?line=2389'>2390</a>\u001b[0m             \u001b[39m\"\u001b[39m\u001b[39mindexer (index of the boolean Series and of \u001b[39m\u001b[39m\"\u001b[39m\n\u001b[0;32m   <a href='file:///c%3A/Users/Naiane%20Negri/AppData/Roaming/Python/Python310/site-packages/pandas/core/indexing.py?line=2390'>2391</a>\u001b[0m             \u001b[39m\"\u001b[39m\u001b[39mthe indexed object do not match).\u001b[39m\u001b[39m\"\u001b[39m\n\u001b[0;32m   <a href='file:///c%3A/Users/Naiane%20Negri/AppData/Roaming/Python/Python310/site-packages/pandas/core/indexing.py?line=2391'>2392</a>\u001b[0m         )\n\u001b[0;32m   <a href='file:///c%3A/Users/Naiane%20Negri/AppData/Roaming/Python/Python310/site-packages/pandas/core/indexing.py?line=2392'>2393</a>\u001b[0m     \u001b[39mreturn\u001b[39;00m result\u001b[39m.\u001b[39mastype(\u001b[39mbool\u001b[39m)\u001b[39m.\u001b[39m_values\n\u001b[0;32m   <a href='file:///c%3A/Users/Naiane%20Negri/AppData/Roaming/Python/Python310/site-packages/pandas/core/indexing.py?line=2393'>2394</a>\u001b[0m \u001b[39mif\u001b[39;00m is_object_dtype(key):\n\u001b[0;32m   <a href='file:///c%3A/Users/Naiane%20Negri/AppData/Roaming/Python/Python310/site-packages/pandas/core/indexing.py?line=2394'>2395</a>\u001b[0m     \u001b[39m# key might be object-dtype bool, check_array_indexer needs bool array\u001b[39;00m\n",
      "\u001b[1;31mIndexingError\u001b[0m: Unalignable boolean Series provided as indexer (index of the boolean Series and of the indexed object do not match)."
     ]
    }
   ],
   "source": [
    "X = df_train[['investmentStart','returnTime','workStyle','companySize','capitalInstalacao','totalUnits']]\n",
    "X_test = df_test[['investmentStart','returnTime','workStyle','companySize','capitalInstalacao','totalUnits']]\n",
    "y = df_train['company'] \n",
    "\n",
    "investmentStartFilter =  X['investmentStart'] <= (X_test['investmentStart'][0] * 1.3)\n",
    "X_filter = X[investmentStartFilter]\n",
    "\n",
    "X_filter = X_filter.loc[(X_filter != 0).all()]\n",
    "X_filter"
   ]
  },
  {
   "cell_type": "code",
   "execution_count": 174,
   "metadata": {},
   "outputs": [],
   "source": [
    "X_norm =(X-X.mean())/X.std()\n"
   ]
  },
  {
   "cell_type": "code",
   "execution_count": 175,
   "metadata": {},
   "outputs": [
    {
     "name": "stderr",
     "output_type": "stream",
     "text": [
      "C:\\Users\\Naiane Negri\\AppData\\Roaming\\Python\\Python310\\site-packages\\sklearn\\linear_model\\_logistic.py:814: ConvergenceWarning: lbfgs failed to converge (status=1):\n",
      "STOP: TOTAL NO. of ITERATIONS REACHED LIMIT.\n",
      "\n",
      "Increase the number of iterations (max_iter) or scale the data as shown in:\n",
      "    https://scikit-learn.org/stable/modules/preprocessing.html\n",
      "Please also refer to the documentation for alternative solver options:\n",
      "    https://scikit-learn.org/stable/modules/linear_model.html#logistic-regression\n",
      "  n_iter_i = _check_optimize_result(\n"
     ]
    }
   ],
   "source": [
    "model = linear_model.LogisticRegression(random_state=0).fit(X_norm, y)\n",
    "result = model.score(X_norm, y)\n"
   ]
  },
  {
   "cell_type": "code",
   "execution_count": 176,
   "metadata": {},
   "outputs": [
    {
     "data": {
      "text/html": [
       "<div>\n",
       "<style scoped>\n",
       "    .dataframe tbody tr th:only-of-type {\n",
       "        vertical-align: middle;\n",
       "    }\n",
       "\n",
       "    .dataframe tbody tr th {\n",
       "        vertical-align: top;\n",
       "    }\n",
       "\n",
       "    .dataframe thead th {\n",
       "        text-align: right;\n",
       "    }\n",
       "</style>\n",
       "<table border=\"1\" class=\"dataframe\">\n",
       "  <thead>\n",
       "    <tr style=\"text-align: right;\">\n",
       "      <th></th>\n",
       "      <th>investmentStart</th>\n",
       "      <th>returnTime</th>\n",
       "      <th>workStyle</th>\n",
       "      <th>companySize</th>\n",
       "      <th>capitalInstalacao</th>\n",
       "      <th>totalUnits</th>\n",
       "    </tr>\n",
       "  </thead>\n",
       "  <tbody>\n",
       "    <tr>\n",
       "      <th>0</th>\n",
       "      <td>-11.027604</td>\n",
       "      <td>-0.476731</td>\n",
       "      <td>0.408248</td>\n",
       "      <td>-0.221404</td>\n",
       "      <td>-0.339032</td>\n",
       "      <td>-0.740403</td>\n",
       "    </tr>\n",
       "    <tr>\n",
       "      <th>1</th>\n",
       "      <td>-21.052698</td>\n",
       "      <td>0.476731</td>\n",
       "      <td>0.408248</td>\n",
       "      <td>1.107019</td>\n",
       "      <td>-0.847579</td>\n",
       "      <td>-0.740403</td>\n",
       "    </tr>\n",
       "    <tr>\n",
       "      <th>2</th>\n",
       "      <td>19.047679</td>\n",
       "      <td>0.476731</td>\n",
       "      <td>-2.041241</td>\n",
       "      <td>-1.549826</td>\n",
       "      <td>0.678064</td>\n",
       "      <td>1.705422</td>\n",
       "    </tr>\n",
       "    <tr>\n",
       "      <th>3</th>\n",
       "      <td>-15.037641</td>\n",
       "      <td>-0.476731</td>\n",
       "      <td>0.408248</td>\n",
       "      <td>-0.221404</td>\n",
       "      <td>-0.847579</td>\n",
       "      <td>-0.640573</td>\n",
       "    </tr>\n",
       "    <tr>\n",
       "      <th>4</th>\n",
       "      <td>29.072773</td>\n",
       "      <td>1.430194</td>\n",
       "      <td>0.408248</td>\n",
       "      <td>1.107019</td>\n",
       "      <td>1.695159</td>\n",
       "      <td>0.707126</td>\n",
       "    </tr>\n",
       "    <tr>\n",
       "      <th>5</th>\n",
       "      <td>-1.002509</td>\n",
       "      <td>-1.430194</td>\n",
       "      <td>0.408248</td>\n",
       "      <td>-0.221404</td>\n",
       "      <td>-0.339032</td>\n",
       "      <td>-0.291170</td>\n",
       "    </tr>\n",
       "  </tbody>\n",
       "</table>\n",
       "</div>"
      ],
      "text/plain": [
       "   investmentStart  returnTime  workStyle  companySize  capitalInstalacao  \\\n",
       "0       -11.027604   -0.476731   0.408248    -0.221404          -0.339032   \n",
       "1       -21.052698    0.476731   0.408248     1.107019          -0.847579   \n",
       "2        19.047679    0.476731  -2.041241    -1.549826           0.678064   \n",
       "3       -15.037641   -0.476731   0.408248    -0.221404          -0.847579   \n",
       "4        29.072773    1.430194   0.408248     1.107019           1.695159   \n",
       "5        -1.002509   -1.430194   0.408248    -0.221404          -0.339032   \n",
       "\n",
       "   totalUnits  \n",
       "0   -0.740403  \n",
       "1   -0.740403  \n",
       "2    1.705422  \n",
       "3   -0.640573  \n",
       "4    0.707126  \n",
       "5   -0.291170  "
      ]
     },
     "execution_count": 176,
     "metadata": {},
     "output_type": "execute_result"
    }
   ],
   "source": [
    "\n",
    "X_test_norm =(X_test-X_test.mean())/X_test.std()\n"
   ]
  },
  {
   "cell_type": "code",
   "execution_count": 177,
   "metadata": {},
   "outputs": [],
   "source": [
    "y_test = model.predict(X_test_norm)\n",
    "valid_x_df = pd.DataFrame(X_test_norm)\n",
    "valid_y_df = pd.DataFrame(y_test)\n"
   ]
  },
  {
   "cell_type": "code",
   "execution_count": 178,
   "metadata": {},
   "outputs": [],
   "source": [
    "n=5\n",
    "\n",
    "probas = model.predict_proba(X_test_norm)\n",
    "\n",
    "\n",
    "top_n_predictions = np.argsort(probas, axis = 1)[:,-n:]\n",
    "\n",
    "top_class = model.classes_[top_n_predictions]\n",
    "\n",
    "top_class_df = pd.DataFrame(data=top_class)\n",
    "results = pd.merge(valid_y_df, valid_x_df, left_index=True, right_index=True)\n",
    "results = pd.merge(results, top_class_df, left_index=True, right_index=True)\n",
    "\n"
   ]
  },
  {
   "cell_type": "code",
   "execution_count": 179,
   "metadata": {},
   "outputs": [
    {
     "data": {
      "text/html": [
       "<div>\n",
       "<style scoped>\n",
       "    .dataframe tbody tr th:only-of-type {\n",
       "        vertical-align: middle;\n",
       "    }\n",
       "\n",
       "    .dataframe tbody tr th {\n",
       "        vertical-align: top;\n",
       "    }\n",
       "\n",
       "    .dataframe thead th {\n",
       "        text-align: right;\n",
       "    }\n",
       "</style>\n",
       "<table border=\"1\" class=\"dataframe\">\n",
       "  <thead>\n",
       "    <tr style=\"text-align: right;\">\n",
       "      <th></th>\n",
       "      <th>0_x</th>\n",
       "      <th>investmentStart</th>\n",
       "      <th>returnTime</th>\n",
       "      <th>workStyle</th>\n",
       "      <th>companySize</th>\n",
       "      <th>capitalInstalacao</th>\n",
       "      <th>totalUnits</th>\n",
       "      <th>0_y</th>\n",
       "      <th>1</th>\n",
       "      <th>2</th>\n",
       "      <th>3</th>\n",
       "      <th>4</th>\n",
       "    </tr>\n",
       "  </thead>\n",
       "  <tbody>\n",
       "    <tr>\n",
       "      <th>0</th>\n",
       "      <td>cheflera</td>\n",
       "      <td>-11.027604</td>\n",
       "      <td>-0.476731</td>\n",
       "      <td>0.408248</td>\n",
       "      <td>-0.221404</td>\n",
       "      <td>-0.339032</td>\n",
       "      <td>-0.740403</td>\n",
       "      <td>bittencourt inteligencia em redes de negocios</td>\n",
       "      <td>a fabrica de vendas</td>\n",
       "      <td>aw contabil</td>\n",
       "      <td>antilhas embalagens</td>\n",
       "      <td>cheflera</td>\n",
       "    </tr>\n",
       "    <tr>\n",
       "      <th>1</th>\n",
       "      <td>brewtainer</td>\n",
       "      <td>-21.052698</td>\n",
       "      <td>0.476731</td>\n",
       "      <td>0.408248</td>\n",
       "      <td>1.107019</td>\n",
       "      <td>-0.847579</td>\n",
       "      <td>-0.740403</td>\n",
       "      <td>bidon corretora de seguros</td>\n",
       "      <td>ara moveis</td>\n",
       "      <td>casagroup</td>\n",
       "      <td>beetools the language school</td>\n",
       "      <td>brewtainer</td>\n",
       "    </tr>\n",
       "    <tr>\n",
       "      <th>2</th>\n",
       "      <td>bobs</td>\n",
       "      <td>19.047679</td>\n",
       "      <td>0.476731</td>\n",
       "      <td>-2.041241</td>\n",
       "      <td>-1.549826</td>\n",
       "      <td>0.678064</td>\n",
       "      <td>1.705422</td>\n",
       "      <td>am pm</td>\n",
       "      <td>casa do construtor</td>\n",
       "      <td>arezzo  co</td>\n",
       "      <td>bibi</td>\n",
       "      <td>bobs</td>\n",
       "    </tr>\n",
       "    <tr>\n",
       "      <th>3</th>\n",
       "      <td>ara moveis</td>\n",
       "      <td>-15.037641</td>\n",
       "      <td>-0.476731</td>\n",
       "      <td>0.408248</td>\n",
       "      <td>-0.221404</td>\n",
       "      <td>-0.847579</td>\n",
       "      <td>-0.640573</td>\n",
       "      <td>antilhas embalagens</td>\n",
       "      <td>bittencourt inteligencia em redes de negocios</td>\n",
       "      <td>a fabrica de vendas</td>\n",
       "      <td>beetools the language school</td>\n",
       "      <td>ara moveis</td>\n",
       "    </tr>\n",
       "    <tr>\n",
       "      <th>4</th>\n",
       "      <td>billy the grill</td>\n",
       "      <td>29.072773</td>\n",
       "      <td>1.430194</td>\n",
       "      <td>0.408248</td>\n",
       "      <td>1.107019</td>\n",
       "      <td>1.695159</td>\n",
       "      <td>0.707126</td>\n",
       "      <td>anjos colchoes</td>\n",
       "      <td>franquia aramis mensawear</td>\n",
       "      <td>bobs</td>\n",
       "      <td>casa do construtor</td>\n",
       "      <td>billy the grill</td>\n",
       "    </tr>\n",
       "    <tr>\n",
       "      <th>5</th>\n",
       "      <td>campinas celulares</td>\n",
       "      <td>-1.002509</td>\n",
       "      <td>-1.430194</td>\n",
       "      <td>0.408248</td>\n",
       "      <td>-0.221404</td>\n",
       "      <td>-0.339032</td>\n",
       "      <td>-0.291170</td>\n",
       "      <td>american cookies</td>\n",
       "      <td>bar do urso</td>\n",
       "      <td>ad clinic estetica e bemestar</td>\n",
       "      <td>arranjos express</td>\n",
       "      <td>campinas celulares</td>\n",
       "    </tr>\n",
       "  </tbody>\n",
       "</table>\n",
       "</div>"
      ],
      "text/plain": [
       "                  0_x  investmentStart  returnTime  workStyle  companySize  \\\n",
       "0            cheflera       -11.027604   -0.476731   0.408248    -0.221404   \n",
       "1          brewtainer       -21.052698    0.476731   0.408248     1.107019   \n",
       "2                bobs        19.047679    0.476731  -2.041241    -1.549826   \n",
       "3          ara moveis       -15.037641   -0.476731   0.408248    -0.221404   \n",
       "4     billy the grill        29.072773    1.430194   0.408248     1.107019   \n",
       "5  campinas celulares        -1.002509   -1.430194   0.408248    -0.221404   \n",
       "\n",
       "   capitalInstalacao  totalUnits  \\\n",
       "0          -0.339032   -0.740403   \n",
       "1          -0.847579   -0.740403   \n",
       "2           0.678064    1.705422   \n",
       "3          -0.847579   -0.640573   \n",
       "4           1.695159    0.707126   \n",
       "5          -0.339032   -0.291170   \n",
       "\n",
       "                                             0_y  \\\n",
       "0  bittencourt inteligencia em redes de negocios   \n",
       "1                     bidon corretora de seguros   \n",
       "2                                          am pm   \n",
       "3                            antilhas embalagens   \n",
       "4                                 anjos colchoes   \n",
       "5                               american cookies   \n",
       "\n",
       "                                               1  \\\n",
       "0                            a fabrica de vendas   \n",
       "1                                     ara moveis   \n",
       "2                             casa do construtor   \n",
       "3  bittencourt inteligencia em redes de negocios   \n",
       "4                      franquia aramis mensawear   \n",
       "5                                    bar do urso   \n",
       "\n",
       "                               2                             3  \\\n",
       "0                    aw contabil           antilhas embalagens   \n",
       "1                      casagroup  beetools the language school   \n",
       "2                     arezzo  co                          bibi   \n",
       "3            a fabrica de vendas  beetools the language school   \n",
       "4                           bobs            casa do construtor   \n",
       "5  ad clinic estetica e bemestar              arranjos express   \n",
       "\n",
       "                    4  \n",
       "0            cheflera  \n",
       "1          brewtainer  \n",
       "2                bobs  \n",
       "3          ara moveis  \n",
       "4     billy the grill  \n",
       "5  campinas celulares  "
      ]
     },
     "execution_count": 179,
     "metadata": {},
     "output_type": "execute_result"
    }
   ],
   "source": [
    "results"
   ]
  },
  {
   "cell_type": "code",
   "execution_count": 180,
   "metadata": {},
   "outputs": [
    {
     "data": {
      "image/png": "[encoded data removed]",
      "text/plain": [
       "<Figure size 432x288 with 2 Axes>"
      ]
     },
     "metadata": {
      "needs_background": "light"
     },
     "output_type": "display_data"
    }
   ],
   "source": [
    "plot = sn.heatmap(probas, annot=False, fmt=\".2f\")"
   ]
  },
  {
   "cell_type": "code",
   "execution_count": null,
   "metadata": {},
   "outputs": [],
   "source": []
  },
  {
   "cell_type": "code",
   "execution_count": null,
   "metadata": {},
   "outputs": [],
   "source": []
  }
 ],
 "metadata": {
  "interpreter": {
   "hash": "f4fde45515710cbe4f4cf44a8ddef1b298277709bd6c5462499553af68a98f2e"
  },
  "kernelspec": {
   "display_name": "Python 3.10.0 64-bit",
   "language": "python",
   "name": "python3"
  },
  "language_info": {
   "codemirror_mode": {
    "name": "ipython",
    "version": 3
   },
   "file_extension": ".py",
   "mimetype": "text/x-python",
   "name": "python",
   "nbconvert_exporter": "python",
   "pygments_lexer": "ipython3",
   "version": "3.10.0"
  },
  "orig_nbformat": 4
 },
 "nbformat": 4,
 "nbformat_minor": 2
}
